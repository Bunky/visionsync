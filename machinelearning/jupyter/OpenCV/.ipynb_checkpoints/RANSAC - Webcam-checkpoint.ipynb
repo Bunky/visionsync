{
 "cells": [
  {
   "cell_type": "code",
   "execution_count": 27,
   "id": "ec7c9656-5226-460f-9566-1f57199131b1",
   "metadata": {},
   "outputs": [],
   "source": [
    "import numpy as np\n",
    "import cv2 as cv"
   ]
  },
  {
   "cell_type": "code",
   "execution_count": 28,
   "id": "6ff1b4a6-40d5-4161-a765-a4a164d8b579",
   "metadata": {},
   "outputs": [],
   "source": [
    "lower_green = np.array([40, 40, 40])\n",
    "upper_green = np.array([75, 255, 255])"
   ]
  },
  {
   "cell_type": "code",
   "execution_count": null,
   "id": "d18e4807-f687-4909-95a9-76b9f650b747",
   "metadata": {},
   "outputs": [],
   "source": [
    "cap = cv.VideoCapture(0)\n",
    "if not cap.isOpened():\n",
    "    print(\"Cannot open camera\")\n",
    "    exit()\n",
    "\n",
    "while True:\n",
    "    # Capture frame-by-frame\n",
    "    ret, frame = cap.read()\n",
    "    # if frame is read correctly ret is True\n",
    "    if not ret:\n",
    "        print(\"Can't receive frame (stream end?). Exiting ...\")\n",
    "        break\n",
    "        \n",
    "    #converting into hsv image\n",
    "    hsv = cv.cvtColor(frame, cv.COLOR_BGR2HSV)\n",
    "    #green range\n",
    "    lower_green = np.array([40, 40, 40])\n",
    "    upper_green = np.array([75, 255, 255])\n",
    "\n",
    "    #Define a mask ranging from lower to uppper\n",
    "    mask = cv.inRange(hsv, lower_green, upper_green)\n",
    "    #Do masking\n",
    "    res = cv.bitwise_and(frame, frame, mask=mask)\n",
    "        \n",
    "    #Convert to grey\n",
    "    gray = cv.cvtColor(res, cv.COLOR_BGR2GRAY)\n",
    "\n",
    "    #Create default parametrization LSD\n",
    "    lsd = cv.createLineSegmentDetector(0)\n",
    "\n",
    "    #Detect lines in the image\n",
    "    lines = lsd.detect(gray)\n",
    "\n",
    "    #Draw detected lines in the image\n",
    "    for dline in lines[0]:\n",
    "        x0 = int(round(dline[0][0]))\n",
    "        y0 = int(round(dline[0][1]))\n",
    "        x1 = int(round(dline[0][2]))\n",
    "        y1 = int(round(dline[0][3]))\n",
    "        cv.line(frame, (x0, y0), (x1,y1), 255, 1, cv.LINE_AA)\n",
    "   \n",
    "    # Display the resulting frame\n",
    "    cv.imshow('drawn_img', frame)\n",
    "    if cv.waitKey(1) == ord('q'):\n",
    "        break\n",
    "        \n",
    "# When everything done, release the capture\n",
    "cap.release()\n",
    "cv.destroyAllWindows()"
   ]
  },
  {
   "cell_type": "code",
   "execution_count": 20,
   "id": "7b328b21-93f2-4739-aed4-f10d2b15ad26",
   "metadata": {},
   "outputs": [],
   "source": []
  },
  {
   "cell_type": "code",
   "execution_count": null,
   "id": "fab1d7fe-c907-431d-a50f-f1afdc2bee09",
   "metadata": {},
   "outputs": [],
   "source": []
  }
 ],
 "metadata": {
  "kernelspec": {
   "display_name": "Python 3 (ipykernel)",
   "language": "python",
   "name": "python3"
  },
  "language_info": {
   "codemirror_mode": {
    "name": "ipython",
    "version": 3
   },
   "file_extension": ".py",
   "mimetype": "text/x-python",
   "name": "python",
   "nbconvert_exporter": "python",
   "pygments_lexer": "ipython3",
   "version": "3.8.6"
  }
 },
 "nbformat": 4,
 "nbformat_minor": 5
}
