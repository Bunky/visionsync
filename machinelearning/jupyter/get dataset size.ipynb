{
 "cells": [
  {
   "cell_type": "code",
   "execution_count": 19,
   "id": "dd53f013-696f-4cd0-85eb-cda712b1a1a0",
   "metadata": {},
   "outputs": [
    {
     "name": "stdout",
     "output_type": "stream",
     "text": [
      "Players: 774422\n",
      "Balls: 65169\n",
      "Gaols: 19585\n"
     ]
    }
   ],
   "source": [
    "import os\n",
    "\n",
    "player_count = 0\n",
    "ball_count = 0\n",
    "goal_count = 0\n",
    "for subdir, dirs, files in os.walk('N:/Uni/Disertation/Data/training/datasets/soccerdb/labels/'):\n",
    "    for fn in files:\n",
    "        if \".txt\" in fn:\n",
    "            with open(os.path.join(subdir, fn)) as f:\n",
    "                for line in f:\n",
    "                    if (line[0] == \"0\"):\n",
    "                        player_count += 1\n",
    "                    if (line[0] == \"1\"):\n",
    "                        ball_count += 1\n",
    "                    if (line[0] == \"2\"):\n",
    "                        goal_count += 1\n",
    "                    \n",
    "                # names[fn]=sum(1 for line in f)\n",
    "\n",
    "# print names\n",
    "print(f\"Players: {player_count}\")\n",
    "print(f\"Balls: {ball_count}\")\n",
    "print(f\"Goals: {goal_count}\")"
   ]
  },
  {
   "cell_type": "code",
   "execution_count": null,
   "id": "94189bb0-0ea7-40c2-8202-2526067a3a19",
   "metadata": {},
   "outputs": [],
   "source": []
  }
 ],
 "metadata": {
  "kernelspec": {
   "display_name": "Python 3 (ipykernel)",
   "language": "python",
   "name": "python3"
  },
  "language_info": {
   "codemirror_mode": {
    "name": "ipython",
    "version": 3
   },
   "file_extension": ".py",
   "mimetype": "text/x-python",
   "name": "python",
   "nbconvert_exporter": "python",
   "pygments_lexer": "ipython3",
   "version": "3.8.6"
  }
 },
 "nbformat": 4,
 "nbformat_minor": 5
}
