{
 "cells": [
  {
   "cell_type": "code",
   "execution_count": 2,
   "id": "dd53f013-696f-4cd0-85eb-cda712b1a1a0",
   "metadata": {},
   "outputs": [
    {
     "name": "stdout",
     "output_type": "stream",
     "text": [
      "Players: 13564\n",
      "Balls: 937\n",
      "Goals: 0\n"
     ]
    }
   ],
   "source": [
    "import os\n",
    "\n",
    "image_count = 0\n",
    "player_count = 0\n",
    "ball_count = 0\n",
    "goal_count = 0\n",
    "for subdir, dirs, files in os.walk('N:/Uni/Disertation/Data/training/datasets/soccerdb/labels/SOD_Dataset'):\n",
    "    for fn in files:\n",
    "        if \".txt\" in fn:\n",
    "            image_count += 1\n",
    "            with open(os.path.join(subdir, fn)) as f:\n",
    "                for line in f:\n",
    "                    if (line[0] == \"0\"):\n",
    "                        player_count += 1\n",
    "                    if (line[0] == \"1\"):\n",
    "                        ball_count += 1\n",
    "                    if (line[0] == \"2\"):\n",
    "                        goal_count += 1\n",
    "                    \n",
    "                # names[fn]=sum(1 for line in f)\n",
    "\n",
    "# print names\n",
    "print(f\"Images: {image_count}\")\n",
    "print(f\"Players: {player_count}\")\n",
    "print(f\"Balls: {ball_count}\")\n",
    "print(f\"Goals: {goal_count}\")"
   ]
  },
  {
   "cell_type": "code",
   "execution_count": 18,
   "id": "94189bb0-0ea7-40c2-8202-2526067a3a19",
   "metadata": {},
   "outputs": [
    {
     "name": "stdout",
     "output_type": "stream",
     "text": [
      "Images: 8629\n",
      "Players: 118867\n",
      "Balls: 8545\n",
      "Goals: 2454\n"
     ]
    }
   ],
   "source": [
    "import os\n",
    "\n",
    "validation = [\"jsladjf81\", \"jsladjf28\", \"jsladjf24\", \"jsladjf50\", \"jsladjf94\", \"jsladjf1\", \"jsladjf5\", \"jsladjf6\", \"jsladjf67\", \"jsladjf111\", \"jsladjf38\", \"jsladjf88\", \"jsladjf110\", \"jsladjf103\", \"jsladjf98\", \"jsladjf95\", \"lkjdfaule\", \"jsladjf66\", \"jsladjf93\", \"jsladjf30\", \"keildole\", \"ldue\"]\n",
    "\n",
    "image_count = 0\n",
    "player_count = 0\n",
    "ball_count = 0\n",
    "goal_count = 0\n",
    "for subdir, dirs, files in os.walk('N:/Uni/Disertation/Data/training/datasets/soccerdb/labels'):\n",
    "    for fn in files:\n",
    "        # if \".txt\" in fn and any(map(fn.__contains__, validation)):\n",
    "        if \".txt\" in fn and subdir[58:] in validation:\n",
    "        # if \".txt\" in fn and fn[:len(fn)-4] in validation:\n",
    "            image_count += 1\n",
    "            # print(subdir[58:])\n",
    "            # print(fn)\n",
    "            with open(os.path.join(subdir, fn)) as f:\n",
    "                for line in f:\n",
    "                    if (line[0] == \"0\"):\n",
    "                        player_count += 1\n",
    "                    if (line[0] == \"1\"):\n",
    "                        ball_count += 1\n",
    "                    if (line[0] == \"2\"):\n",
    "                        goal_count += 1\n",
    "                    \n",
    "                # names[fn]=sum(1 for line in f)\n",
    "\n",
    "# print names\n",
    "print(f\"Images: {image_count}\")\n",
    "print(f\"Players: {player_count}\")\n",
    "print(f\"Balls: {ball_count}\")\n",
    "print(f\"Goals: {goal_count}\")"
   ]
  }
 ],
 "metadata": {
  "kernelspec": {
   "display_name": "Python 3 (ipykernel)",
   "language": "python",
   "name": "python3"
  },
  "language_info": {
   "codemirror_mode": {
    "name": "ipython",
    "version": 3
   },
   "file_extension": ".py",
   "mimetype": "text/x-python",
   "name": "python",
   "nbconvert_exporter": "python",
   "pygments_lexer": "ipython3",
   "version": "3.8.6"
  }
 },
 "nbformat": 4,
 "nbformat_minor": 5
}
