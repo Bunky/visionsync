{
 "cells": [
  {
   "cell_type": "code",
   "execution_count": null,
   "id": "83e3ea1f-5987-4b03-a57b-1a541197ceac",
   "metadata": {},
   "outputs": [],
   "source": [
    "%matplotlib inline\n",
    "\n",
    "import torch\n",
    "import cv2\n",
    "from bounding_box import bounding_box as bb\n",
    "\n",
    "# Model\n",
    "model = torch.hub.load('ultralytics/yolov5', 'custom', path='../../Data/training/yolov5/runs/train/exp13/weights/best.pt')\n",
    "\n",
    "# Inference\n",
    "results = model('https://cdn.discordapp.com/attachments/706592669627056213/937901694140956682/unknown.png')# 'https://cdn.discordapp.com/attachments/706592669627056213/937891937288081458/unknown.png')\n",
    "\n",
    "results = results.pandas().xyxy[0]\n",
    "#      xmin    ymin    xmax   ymax  confidence  class    name\n",
    "# 0  749.50   43.50  1148.0  704.5    0.874023      0  person\n",
    "# 1  433.50  433.50   517.5  714.5    0.687988     27     tie\n",
    "# 2  114.75  195.75  1095.0  708.0    0.624512      0  person\n",
    "# 3  986.00  304.00  1028.0  420.0    0.286865     27     tie"
   ]
  },
  {
   "cell_type": "code",
   "execution_count": null,
   "id": "4fd6fe82-0142-42e8-a65d-0755641e1504",
   "metadata": {},
   "outputs": [],
   "source": [
    "# print(results.iloc[0]['xmin'])"
   ]
  },
  {
   "cell_type": "code",
   "execution_count": null,
   "id": "282d1405-ecaf-4349-9c18-b15a29ddc86a",
   "metadata": {},
   "outputs": [],
   "source": [
    "image = cv2.imread('./data/unknown.png', cv2.IMREAD_COLOR)\n",
    "\n",
    "for index, row in results.iterrows():\n",
    "    bb.add(image, row['xmin'], row['ymin'], row['xmax'], row['ymax'], row['name'], \"purple\")\n",
    "\n",
    "cv2.imshow('image', image)\n",
    "while(True):\n",
    "    k = cv2.waitKey(33)\n",
    "    if k == -1:  # if no key was pressed, -1 is returned\n",
    "        continue\n",
    "    else:\n",
    "        break\n",
    "cv2.destroyWindow('img')"
   ]
  },
  {
   "cell_type": "code",
   "execution_count": null,
   "id": "c41b49fd-4b25-479b-83b3-23b0668bda51",
   "metadata": {},
   "outputs": [],
   "source": []
  }
 ],
 "metadata": {
  "kernelspec": {
   "display_name": "Python 3 (ipykernel)",
   "language": "python",
   "name": "python3"
  },
  "language_info": {
   "codemirror_mode": {
    "name": "ipython",
    "version": 3
   },
   "file_extension": ".py",
   "mimetype": "text/x-python",
   "name": "python",
   "nbconvert_exporter": "python",
   "pygments_lexer": "ipython3",
   "version": "3.8.6"
  }
 },
 "nbformat": 4,
 "nbformat_minor": 5
}
